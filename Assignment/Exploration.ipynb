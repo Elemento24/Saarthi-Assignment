{
 "cells": [
  {
   "cell_type": "code",
   "execution_count": 1,
   "id": "87d9903b",
   "metadata": {},
   "outputs": [],
   "source": [
    "import os\n",
    "import numpy as np\n",
    "import pandas as pd\n",
    "import matplotlib.pyplot as plt"
   ]
  },
  {
   "cell_type": "code",
   "execution_count": 2,
   "id": "40b2c611",
   "metadata": {},
   "outputs": [
    {
     "data": {
      "text/plain": [
       "'/home/elemento/Downloads/Saarthi/task_data'"
      ]
     },
     "execution_count": 2,
     "metadata": {},
     "output_type": "execute_result"
    }
   ],
   "source": [
    "data_path = \"/home/elemento/Downloads/Saarthi/task_data\"\n",
    "os.chdir(data_path)\n",
    "os.getcwd()"
   ]
  },
  {
   "cell_type": "markdown",
   "id": "e2008fc7",
   "metadata": {},
   "source": [
    "## Training Data Analysis"
   ]
  },
  {
   "cell_type": "code",
   "execution_count": 3,
   "id": "5a4d8397",
   "metadata": {},
   "outputs": [
    {
     "name": "stdout",
     "output_type": "stream",
     "text": [
      "<class 'pandas.core.frame.DataFrame'>\n",
      "RangeIndex: 11566 entries, 0 to 11565\n",
      "Data columns (total 5 columns):\n",
      " #   Column         Non-Null Count  Dtype \n",
      "---  ------         --------------  ----- \n",
      " 0   path           11566 non-null  object\n",
      " 1   transcription  11566 non-null  object\n",
      " 2   action         11566 non-null  object\n",
      " 3   object         11566 non-null  object\n",
      " 4   location       11566 non-null  object\n",
      "dtypes: object(5)\n",
      "memory usage: 451.9+ KB\n"
     ]
    }
   ],
   "source": [
    "df_train = pd.read_csv(\"train_data.csv\")\n",
    "df_train.info()"
   ]
  },
  {
   "cell_type": "code",
   "execution_count": 4,
   "id": "ca97a54d",
   "metadata": {},
   "outputs": [
    {
     "name": "stdout",
     "output_type": "stream",
     "text": [
      "Number of Unique Actions: 6\n",
      "Unique Actions: ['activate' 'bring' 'change language' 'deactivate' 'decrease' 'increase']\n",
      "\n",
      "Number of Unique Objects: 14\n",
      "Unique Objects: ['Chinese' 'English' 'German' 'Korean' 'heat' 'juice' 'lamp' 'lights'\n",
      " 'music' 'newspaper' 'none' 'shoes' 'socks' 'volume']\n",
      "\n",
      "Number of Unique Locations: 4\n",
      "Unique Locations: ['bedroom' 'kitchen' 'none' 'washroom']\n"
     ]
    }
   ],
   "source": [
    "num_actions = np.unique(df_train['action'])\n",
    "num_objects = np.unique(df_train['object'])\n",
    "num_locations = np.unique(df_train['location'])\n",
    "\n",
    "print(f\"Number of Unique Actions: {len(num_actions)}\")\n",
    "print(f\"Unique Actions: {num_actions}\")\n",
    "\n",
    "print(f\"\\nNumber of Unique Objects: {len(num_objects)}\")\n",
    "print(f\"Unique Objects: {num_objects}\")\n",
    "\n",
    "print(f\"\\nNumber of Unique Locations: {len(num_locations)}\")\n",
    "print(f\"Unique Locations: {num_locations}\")"
   ]
  },
  {
   "cell_type": "code",
   "execution_count": 5,
   "id": "a2e2941e",
   "metadata": {},
   "outputs": [
    {
     "name": "stdout",
     "output_type": "stream",
     "text": [
      "Number of Unique Words in Transcripts: 124\n",
      "Unique Words in Transcripts: ['Allow' 'Bathroom' 'Bedroom' 'Bring' 'Change' 'Chinese' 'Chinese.'\n",
      " 'Could' 'Decrease' 'English' 'English.' 'Far' 'Fetch' 'German' 'German.'\n",
      " 'Get' 'Go' 'Heat' 'I' 'Increase' 'It’s' 'Kitchen' 'Korean' 'Korean.'\n",
      " 'Lamp' 'Language' 'Less' 'Lights' 'Louder' 'Lower' 'Make' 'More' 'OK'\n",
      " 'Open' 'Pause' 'Play' 'Put' 'Quieter' 'Reduce' 'Resume' 'Set' 'Start'\n",
      " 'Stop' 'Switch' \"That's\" 'That’s' 'This' 'Too' 'Turn' 'Use' 'Volume'\n",
      " 'Washroom' 'a' 'anything,' 'audio' 'bathroom' 'bedroom' \"can't\" 'cooler'\n",
      " \"couldn't\" 'decrease' 'device' 'different' 'down' 'get' 'hear' 'heat'\n",
      " 'heating' 'heating?' 'hotter' 'in' 'increase' 'is' 'it' 'juice' 'kitchen'\n",
      " 'lamp' 'language' 'languages' 'levels' 'lights' 'loud' 'loud,' 'louder'\n",
      " 'low,' 'lower' 'main' 'max' 'me' 'music' 'mute' 'my' 'need' 'newspaper'\n",
      " 'now' 'off' 'on' 'phone' \"phone's\" 'please' 'please?' 'practice' 'quiet'\n",
      " 'quieter' 'settings' 'shoes' 'socks' 'softer' 'some' 'sound' 'switch'\n",
      " 'system' 'temperature' 'that' 'the' 'this,' 'to' 'too' 'turn' 'up'\n",
      " 'video' 'volume' 'washroom' 'you']\n"
     ]
    }
   ],
   "source": [
    "transcripts_train = \" \".join(df_train['transcription'])\n",
    "transcripts_train = transcripts_train.split(\" \")\n",
    "\n",
    "print(f\"Number of Unique Words in Transcripts: {len(np.unique(transcripts_train))}\")\n",
    "print(f\"Unique Words in Transcripts: {np.unique(transcripts_train)}\")"
   ]
  },
  {
   "cell_type": "markdown",
   "id": "236ed0fc",
   "metadata": {},
   "source": [
    "## Validation Data Analysis"
   ]
  },
  {
   "cell_type": "code",
   "execution_count": 6,
   "id": "92d21532",
   "metadata": {},
   "outputs": [
    {
     "name": "stdout",
     "output_type": "stream",
     "text": [
      "<class 'pandas.core.frame.DataFrame'>\n",
      "RangeIndex: 3118 entries, 0 to 3117\n",
      "Data columns (total 5 columns):\n",
      " #   Column         Non-Null Count  Dtype \n",
      "---  ------         --------------  ----- \n",
      " 0   path           3118 non-null   object\n",
      " 1   transcription  3118 non-null   object\n",
      " 2   action         3118 non-null   object\n",
      " 3   object         3118 non-null   object\n",
      " 4   location       3118 non-null   object\n",
      "dtypes: object(5)\n",
      "memory usage: 121.9+ KB\n"
     ]
    }
   ],
   "source": [
    "df_val = pd.read_csv(\"valid_data.csv\")\n",
    "df_val.info()"
   ]
  },
  {
   "cell_type": "code",
   "execution_count": 7,
   "id": "d1f8a5b2",
   "metadata": {},
   "outputs": [
    {
     "name": "stdout",
     "output_type": "stream",
     "text": [
      "Number of Unique Actions: 6\n",
      "Unique Actions: ['activate' 'bring' 'change language' 'deactivate' 'decrease' 'increase']\n",
      "\n",
      "Number of Unique Objects: 14\n",
      "Unique Objects: ['Chinese' 'English' 'German' 'Korean' 'heat' 'juice' 'lamp' 'lights'\n",
      " 'music' 'newspaper' 'none' 'shoes' 'socks' 'volume']\n",
      "\n",
      "Number of Unique Locations: 4\n",
      "Unique Locations: ['bedroom' 'kitchen' 'none' 'washroom']\n"
     ]
    }
   ],
   "source": [
    "num_actions = np.unique(df_val['action'])\n",
    "num_objects = np.unique(df_val['object'])\n",
    "num_locations = np.unique(df_val['location'])\n",
    "\n",
    "print(f\"Number of Unique Actions: {len(num_actions)}\")\n",
    "print(f\"Unique Actions: {num_actions}\")\n",
    "\n",
    "print(f\"\\nNumber of Unique Objects: {len(num_objects)}\")\n",
    "print(f\"Unique Objects: {num_objects}\")\n",
    "\n",
    "print(f\"\\nNumber of Unique Locations: {len(num_locations)}\")\n",
    "print(f\"Unique Locations: {num_locations}\")"
   ]
  },
  {
   "cell_type": "code",
   "execution_count": 8,
   "id": "456569fb",
   "metadata": {},
   "outputs": [
    {
     "name": "stdout",
     "output_type": "stream",
     "text": [
      "Number of Unique Words in Transcripts: 124\n",
      "Unique Words in Transcripts: ['Allow' 'Bathroom' 'Bedroom' 'Bring' 'Change' 'Chinese' 'Chinese.'\n",
      " 'Could' 'Decrease' 'English' 'English.' 'Far' 'Fetch' 'German' 'German.'\n",
      " 'Get' 'Go' 'Heat' 'I' 'Increase' 'It’s' 'Kitchen' 'Korean' 'Korean.'\n",
      " 'Lamp' 'Language' 'Less' 'Lights' 'Louder' 'Lower' 'Make' 'More' 'OK'\n",
      " 'Open' 'Pause' 'Play' 'Put' 'Quieter' 'Reduce' 'Resume' 'Set' 'Start'\n",
      " 'Stop' 'Switch' \"That's\" 'That’s' 'This' 'Too' 'Turn' 'Use' 'Volume'\n",
      " 'Washroom' 'a' 'anything,' 'audio' 'bathroom' 'bedroom' \"can't\" 'cooler'\n",
      " \"couldn't\" 'decrease' 'device' 'different' 'down' 'get' 'hear' 'heat'\n",
      " 'heating' 'heating?' 'hotter' 'in' 'increase' 'is' 'it' 'juice' 'kitchen'\n",
      " 'lamp' 'language' 'languages' 'levels' 'lights' 'loud' 'loud,' 'louder'\n",
      " 'low,' 'lower' 'main' 'max' 'me' 'music' 'mute' 'my' 'need' 'newspaper'\n",
      " 'now' 'off' 'on' 'phone' \"phone's\" 'please' 'please?' 'practice' 'quiet'\n",
      " 'quieter' 'settings' 'shoes' 'socks' 'softer' 'some' 'sound' 'switch'\n",
      " 'system' 'temperature' 'that' 'the' 'this,' 'to' 'too' 'turn' 'up'\n",
      " 'video' 'volume' 'washroom' 'you']\n"
     ]
    }
   ],
   "source": [
    "transcripts_val = \" \".join(df_val['transcription'])\n",
    "transcripts_val = transcripts_val.split(\" \")\n",
    "\n",
    "print(f\"Number of Unique Words in Transcripts: {len(np.unique(transcripts_val))}\")\n",
    "print(f\"Unique Words in Transcripts: {np.unique(transcripts_val)}\")"
   ]
  }
 ],
 "metadata": {
  "kernelspec": {
   "display_name": "Python 3 (ipykernel)",
   "language": "python",
   "name": "python3"
  },
  "language_info": {
   "codemirror_mode": {
    "name": "ipython",
    "version": 3
   },
   "file_extension": ".py",
   "mimetype": "text/x-python",
   "name": "python",
   "nbconvert_exporter": "python",
   "pygments_lexer": "ipython3",
   "version": "3.9.12"
  }
 },
 "nbformat": 4,
 "nbformat_minor": 5
}
