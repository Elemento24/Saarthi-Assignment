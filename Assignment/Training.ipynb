{
 "cells": [
  {
   "cell_type": "code",
   "execution_count": 1,
   "id": "81e8c486",
   "metadata": {},
   "outputs": [
    {
     "name": "stderr",
     "output_type": "stream",
     "text": [
      "2022-08-03 18:44:11.247474: W tensorflow/stream_executor/platform/default/dso_loader.cc:64] Could not load dynamic library 'libcudart.so.11.0'; dlerror: libcudart.so.11.0: cannot open shared object file: No such file or directory\n",
      "2022-08-03 18:44:11.247534: I tensorflow/stream_executor/cuda/cudart_stub.cc:29] Ignore above cudart dlerror if you do not have a GPU set up on your machine.\n"
     ]
    }
   ],
   "source": [
    "import os\n",
    "import numpy as np\n",
    "import pandas as pd\n",
    "import matplotlib.pyplot as plt\n",
    "\n",
    "from sklearn.metrics import f1_score\n",
    "from sklearn.preprocessing import OneHotEncoder\n",
    "from sklearn.feature_extraction.text import CountVectorizer\n",
    "\n",
    "import tensorflow as tf\n",
    "import tensorflow.keras as keras\n",
    "from tensorflow.keras.losses import CategoricalCrossentropy\n",
    "from tensorflow.keras.layers import Dense, Softmax, Concatenate"
   ]
  },
  {
   "cell_type": "code",
   "execution_count": 2,
   "id": "cb5daae9",
   "metadata": {},
   "outputs": [
    {
     "data": {
      "text/plain": [
       "'/home/elemento/Downloads/Saarthi/task_data'"
      ]
     },
     "execution_count": 2,
     "metadata": {},
     "output_type": "execute_result"
    }
   ],
   "source": [
    "data_path = \"/home/elemento/Downloads/Saarthi/task_data\"\n",
    "os.chdir(data_path)\n",
    "os.getcwd()"
   ]
  },
  {
   "cell_type": "markdown",
   "id": "30d66e51",
   "metadata": {},
   "source": [
    "### 1. Loading Data"
   ]
  },
  {
   "cell_type": "code",
   "execution_count": 3,
   "id": "1f95eef0",
   "metadata": {},
   "outputs": [
    {
     "name": "stdout",
     "output_type": "stream",
     "text": [
      "(11566, 5) (3118, 5)\n"
     ]
    }
   ],
   "source": [
    "df_train = pd.read_csv(\"train_data.csv\")\n",
    "df_valid = pd.read_csv(\"valid_data.csv\")\n",
    "print(df_train.shape, df_valid.shape)"
   ]
  },
  {
   "cell_type": "markdown",
   "id": "12c67266",
   "metadata": {},
   "source": [
    "### 2. Pre-Processing Training Data"
   ]
  },
  {
   "cell_type": "code",
   "execution_count": 4,
   "id": "fa0f9311",
   "metadata": {},
   "outputs": [
    {
     "data": {
      "text/html": [
       "<div>\n",
       "<style scoped>\n",
       "    .dataframe tbody tr th:only-of-type {\n",
       "        vertical-align: middle;\n",
       "    }\n",
       "\n",
       "    .dataframe tbody tr th {\n",
       "        vertical-align: top;\n",
       "    }\n",
       "\n",
       "    .dataframe thead th {\n",
       "        text-align: right;\n",
       "    }\n",
       "</style>\n",
       "<table border=\"1\" class=\"dataframe\">\n",
       "  <thead>\n",
       "    <tr style=\"text-align: right;\">\n",
       "      <th></th>\n",
       "      <th>path</th>\n",
       "      <th>transcription</th>\n",
       "      <th>action</th>\n",
       "      <th>object</th>\n",
       "      <th>location</th>\n",
       "    </tr>\n",
       "  </thead>\n",
       "  <tbody>\n",
       "    <tr>\n",
       "      <th>0</th>\n",
       "      <td>wavs/speakers/xRQE5VD7rRHVdyvM/7372ca00-45c4-1...</td>\n",
       "      <td>Turn on the kitchen lights</td>\n",
       "      <td>activate</td>\n",
       "      <td>lights</td>\n",
       "      <td>kitchen</td>\n",
       "    </tr>\n",
       "    <tr>\n",
       "      <th>1</th>\n",
       "      <td>wavs/speakers/R3mexpM2YAtdPbL7/dae28110-44fe-1...</td>\n",
       "      <td>Turn up the temperature</td>\n",
       "      <td>increase</td>\n",
       "      <td>heat</td>\n",
       "      <td>none</td>\n",
       "    </tr>\n",
       "    <tr>\n",
       "      <th>2</th>\n",
       "      <td>wavs/speakers/ZebMRl5Z7dhrPKRD/b55dcfd0-455d-1...</td>\n",
       "      <td>OK now switch the main language to Chinese</td>\n",
       "      <td>change language</td>\n",
       "      <td>Chinese</td>\n",
       "      <td>none</td>\n",
       "    </tr>\n",
       "    <tr>\n",
       "      <th>3</th>\n",
       "      <td>wavs/speakers/ppzZqYxGkESMdA5Az/61c54a20-4476-...</td>\n",
       "      <td>Turn down the bathroom temperature</td>\n",
       "      <td>decrease</td>\n",
       "      <td>heat</td>\n",
       "      <td>washroom</td>\n",
       "    </tr>\n",
       "    <tr>\n",
       "      <th>4</th>\n",
       "      <td>wavs/speakers/zaEBPeMY4NUbDnZy/8ef57ec0-44df-1...</td>\n",
       "      <td>Change the language</td>\n",
       "      <td>change language</td>\n",
       "      <td>none</td>\n",
       "      <td>none</td>\n",
       "    </tr>\n",
       "  </tbody>\n",
       "</table>\n",
       "</div>"
      ],
      "text/plain": [
       "                                                path  \\\n",
       "0  wavs/speakers/xRQE5VD7rRHVdyvM/7372ca00-45c4-1...   \n",
       "1  wavs/speakers/R3mexpM2YAtdPbL7/dae28110-44fe-1...   \n",
       "2  wavs/speakers/ZebMRl5Z7dhrPKRD/b55dcfd0-455d-1...   \n",
       "3  wavs/speakers/ppzZqYxGkESMdA5Az/61c54a20-4476-...   \n",
       "4  wavs/speakers/zaEBPeMY4NUbDnZy/8ef57ec0-44df-1...   \n",
       "\n",
       "                                transcription           action   object  \\\n",
       "0                  Turn on the kitchen lights         activate   lights   \n",
       "1                     Turn up the temperature         increase     heat   \n",
       "2  OK now switch the main language to Chinese  change language  Chinese   \n",
       "3          Turn down the bathroom temperature         decrease     heat   \n",
       "4                         Change the language  change language     none   \n",
       "\n",
       "   location  \n",
       "0   kitchen  \n",
       "1      none  \n",
       "2      none  \n",
       "3  washroom  \n",
       "4      none  "
      ]
     },
     "execution_count": 4,
     "metadata": {},
     "output_type": "execute_result"
    }
   ],
   "source": [
    "df_train.head()"
   ]
  },
  {
   "cell_type": "code",
   "execution_count": 5,
   "id": "dd9b539c",
   "metadata": {},
   "outputs": [
    {
     "data": {
      "text/html": [
       "<div>\n",
       "<style scoped>\n",
       "    .dataframe tbody tr th:only-of-type {\n",
       "        vertical-align: middle;\n",
       "    }\n",
       "\n",
       "    .dataframe tbody tr th {\n",
       "        vertical-align: top;\n",
       "    }\n",
       "\n",
       "    .dataframe thead th {\n",
       "        text-align: right;\n",
       "    }\n",
       "</style>\n",
       "<table border=\"1\" class=\"dataframe\">\n",
       "  <thead>\n",
       "    <tr style=\"text-align: right;\">\n",
       "      <th></th>\n",
       "      <th>transcription</th>\n",
       "      <th>action</th>\n",
       "      <th>object</th>\n",
       "      <th>location</th>\n",
       "    </tr>\n",
       "  </thead>\n",
       "  <tbody>\n",
       "    <tr>\n",
       "      <th>0</th>\n",
       "      <td>Turn on the kitchen lights</td>\n",
       "      <td>activate</td>\n",
       "      <td>lights</td>\n",
       "      <td>kitchen</td>\n",
       "    </tr>\n",
       "    <tr>\n",
       "      <th>1</th>\n",
       "      <td>Turn up the temperature</td>\n",
       "      <td>increase</td>\n",
       "      <td>heat</td>\n",
       "      <td>none</td>\n",
       "    </tr>\n",
       "    <tr>\n",
       "      <th>2</th>\n",
       "      <td>OK now switch the main language to Chinese</td>\n",
       "      <td>change language</td>\n",
       "      <td>Chinese</td>\n",
       "      <td>none</td>\n",
       "    </tr>\n",
       "    <tr>\n",
       "      <th>3</th>\n",
       "      <td>Turn down the bathroom temperature</td>\n",
       "      <td>decrease</td>\n",
       "      <td>heat</td>\n",
       "      <td>washroom</td>\n",
       "    </tr>\n",
       "    <tr>\n",
       "      <th>4</th>\n",
       "      <td>Change the language</td>\n",
       "      <td>change language</td>\n",
       "      <td>none</td>\n",
       "      <td>none</td>\n",
       "    </tr>\n",
       "  </tbody>\n",
       "</table>\n",
       "</div>"
      ],
      "text/plain": [
       "                                transcription           action   object  \\\n",
       "0                  Turn on the kitchen lights         activate   lights   \n",
       "1                     Turn up the temperature         increase     heat   \n",
       "2  OK now switch the main language to Chinese  change language  Chinese   \n",
       "3          Turn down the bathroom temperature         decrease     heat   \n",
       "4                         Change the language  change language     none   \n",
       "\n",
       "   location  \n",
       "0   kitchen  \n",
       "1      none  \n",
       "2      none  \n",
       "3  washroom  \n",
       "4      none  "
      ]
     },
     "execution_count": 5,
     "metadata": {},
     "output_type": "execute_result"
    }
   ],
   "source": [
    "# We don't need the audio files, since we already have the text transcripts\n",
    "pre_train = df_train.drop(\"path\", axis = 1)\n",
    "pre_train.head()"
   ]
  },
  {
   "cell_type": "code",
   "execution_count": 6,
   "id": "17ed7714",
   "metadata": {},
   "outputs": [
    {
     "name": "stdout",
     "output_type": "stream",
     "text": [
      "(11566, 3)\n",
      "(11566, 24)\n"
     ]
    }
   ],
   "source": [
    "pre_train_to_encode = pre_train[[\"action\", \"object\", \"location\"]]\n",
    "print(pre_train_to_encode.shape)\n",
    "\n",
    "enc = OneHotEncoder(handle_unknown='ignore')\n",
    "Y_train = enc.fit_transform(pre_train_to_encode)\n",
    "Y_train = Y_train.toarray()\n",
    "print(Y_train.shape)"
   ]
  },
  {
   "cell_type": "code",
   "execution_count": 7,
   "id": "8de222f5",
   "metadata": {},
   "outputs": [
    {
     "name": "stdout",
     "output_type": "stream",
     "text": [
      "(11566, 92)\n"
     ]
    }
   ],
   "source": [
    "vectorizer = CountVectorizer(binary = True)\n",
    "X_train = vectorizer.fit_transform(pre_train[\"transcription\"])\n",
    "X_train = X_train.toarray()\n",
    "print(X_train.shape)"
   ]
  },
  {
   "cell_type": "markdown",
   "id": "2cf4e2af",
   "metadata": {},
   "source": [
    "### 3. Pre-Processing Validation Data"
   ]
  },
  {
   "cell_type": "code",
   "execution_count": 8,
   "id": "a717e86a",
   "metadata": {},
   "outputs": [
    {
     "data": {
      "text/html": [
       "<div>\n",
       "<style scoped>\n",
       "    .dataframe tbody tr th:only-of-type {\n",
       "        vertical-align: middle;\n",
       "    }\n",
       "\n",
       "    .dataframe tbody tr th {\n",
       "        vertical-align: top;\n",
       "    }\n",
       "\n",
       "    .dataframe thead th {\n",
       "        text-align: right;\n",
       "    }\n",
       "</style>\n",
       "<table border=\"1\" class=\"dataframe\">\n",
       "  <thead>\n",
       "    <tr style=\"text-align: right;\">\n",
       "      <th></th>\n",
       "      <th>transcription</th>\n",
       "      <th>action</th>\n",
       "      <th>object</th>\n",
       "      <th>location</th>\n",
       "    </tr>\n",
       "  </thead>\n",
       "  <tbody>\n",
       "    <tr>\n",
       "      <th>0</th>\n",
       "      <td>Turn on the lights</td>\n",
       "      <td>activate</td>\n",
       "      <td>lights</td>\n",
       "      <td>none</td>\n",
       "    </tr>\n",
       "    <tr>\n",
       "      <th>1</th>\n",
       "      <td>Turn off the lights</td>\n",
       "      <td>deactivate</td>\n",
       "      <td>lights</td>\n",
       "      <td>none</td>\n",
       "    </tr>\n",
       "    <tr>\n",
       "      <th>2</th>\n",
       "      <td>Change language</td>\n",
       "      <td>change language</td>\n",
       "      <td>none</td>\n",
       "      <td>none</td>\n",
       "    </tr>\n",
       "    <tr>\n",
       "      <th>3</th>\n",
       "      <td>Pause the music</td>\n",
       "      <td>deactivate</td>\n",
       "      <td>music</td>\n",
       "      <td>none</td>\n",
       "    </tr>\n",
       "    <tr>\n",
       "      <th>4</th>\n",
       "      <td>Resume</td>\n",
       "      <td>activate</td>\n",
       "      <td>music</td>\n",
       "      <td>none</td>\n",
       "    </tr>\n",
       "  </tbody>\n",
       "</table>\n",
       "</div>"
      ],
      "text/plain": [
       "         transcription           action  object location\n",
       "0   Turn on the lights         activate  lights     none\n",
       "1  Turn off the lights       deactivate  lights     none\n",
       "2      Change language  change language    none     none\n",
       "3      Pause the music       deactivate   music     none\n",
       "4               Resume         activate   music     none"
      ]
     },
     "execution_count": 8,
     "metadata": {},
     "output_type": "execute_result"
    }
   ],
   "source": [
    "# We don't need the audio files, since we already have the text transcripts\n",
    "pre_val = df_valid.drop(\"path\", axis = 1)\n",
    "pre_val.head()"
   ]
  },
  {
   "cell_type": "code",
   "execution_count": 9,
   "id": "0f685cb6",
   "metadata": {},
   "outputs": [
    {
     "name": "stdout",
     "output_type": "stream",
     "text": [
      "(3118, 3)\n",
      "(3118, 24)\n"
     ]
    }
   ],
   "source": [
    "pre_val_to_encode = pre_val[[\"action\", \"object\", \"location\"]]\n",
    "print(pre_val_to_encode.shape)\n",
    "\n",
    "Y_val = enc.transform(pre_val_to_encode)\n",
    "Y_val = Y_val.toarray()\n",
    "print(Y_val.shape)"
   ]
  },
  {
   "cell_type": "code",
   "execution_count": 10,
   "id": "ce9f1ebe",
   "metadata": {},
   "outputs": [
    {
     "name": "stdout",
     "output_type": "stream",
     "text": [
      "(3118, 92)\n"
     ]
    }
   ],
   "source": [
    "X_val = vectorizer.transform(pre_val[\"transcription\"])\n",
    "X_val = X_val.toarray()\n",
    "print(X_val.shape)"
   ]
  },
  {
   "cell_type": "markdown",
   "id": "7992adeb",
   "metadata": {},
   "source": [
    "### 4. Defining a Custom Loss function and Accuracy Function"
   ]
  },
  {
   "cell_type": "code",
   "execution_count": 11,
   "id": "52c4cb27",
   "metadata": {},
   "outputs": [],
   "source": [
    "class MyLoss(tf.keras.losses.Loss):\n",
    "    def __init__(self):\n",
    "        super().__init__()\n",
    "    \n",
    "    def call(self, y_true, y_pred):\n",
    "        # Initialization\n",
    "        act_ind = 6\n",
    "        obj_ind = 20\n",
    "        loc_ind = 24\n",
    "        \n",
    "        act_true = y_true[ : , :act_ind]\n",
    "        obj_true = y_true[ : , act_ind:obj_ind]\n",
    "        loc_true = y_true[ : , obj_ind:loc_ind]\n",
    "        \n",
    "        act_pred = y_pred[ : , :act_ind]\n",
    "        obj_pred = y_pred[ : , act_ind:obj_ind]\n",
    "        loc_pred = y_pred[ : , obj_ind:loc_ind]\n",
    "\n",
    "        cce = CategoricalCrossentropy()\n",
    "        loss = cce(act_true, act_pred) + cce(obj_true, obj_pred) + cce(loc_true, loc_pred)\n",
    "        return loss"
   ]
  },
  {
   "cell_type": "code",
   "execution_count": 12,
   "id": "919342cf",
   "metadata": {},
   "outputs": [],
   "source": [
    "class MyAcc(tf.keras.metrics.Metric):\n",
    "    def __init__(self):\n",
    "        super().__init__()\n",
    "        self.acc = None\n",
    "        \n",
    "    def update_state(self, y_true, y_pred, sample_weight = None):\n",
    "        # Initialization\n",
    "        act_ind = 6\n",
    "        obj_ind = 20\n",
    "        loc_ind = 24\n",
    "        \n",
    "        act_true = y_true[ : , :act_ind]\n",
    "        obj_true = y_true[ : , act_ind:obj_ind]\n",
    "        loc_true = y_true[ : , obj_ind:loc_ind]\n",
    "\n",
    "        act_pred = y_pred[ : , :act_ind]\n",
    "        obj_pred = y_pred[ : , act_ind:obj_ind]\n",
    "        loc_pred = y_pred[ : , obj_ind:loc_ind]\n",
    "        \n",
    "        act_true_labels = tf.math.argmax(act_true, axis = 1)\n",
    "        act_pred_labels = tf.math.argmax(act_pred, axis = 1)\n",
    "        \n",
    "        obj_true_labels = tf.math.argmax(obj_true, axis = 1)\n",
    "        obj_pred_labels = tf.math.argmax(obj_pred, axis = 1)\n",
    "        \n",
    "        loc_true_labels = tf.math.argmax(loc_true, axis = 1)\n",
    "        loc_pred_labels = tf.math.argmax(loc_pred, axis = 1)\n",
    "        \n",
    "        act_correct = tf.cast(act_true_labels == act_pred_labels, \"int32\")\n",
    "        obj_correct = tf.cast(obj_true_labels == obj_pred_labels, \"int32\")\n",
    "        loc_correct = tf.cast(loc_true_labels == loc_pred_labels, \"int32\")\n",
    "        \n",
    "        sum_acc = tf.math.reduce_sum(act_correct * obj_correct * loc_correct) / len(y_true)\n",
    "        self.acc = sum_acc\n",
    "      \n",
    "    def result(self):\n",
    "        return self.acc"
   ]
  },
  {
   "cell_type": "code",
   "execution_count": 13,
   "id": "a17f9176",
   "metadata": {},
   "outputs": [],
   "source": [
    "def MyF1Score(y_true, y_pred):\n",
    "    # Initialization\n",
    "    act_ind = 6\n",
    "    obj_ind = 20\n",
    "    loc_ind = 24\n",
    "    \n",
    "    act_true = y_true[ : , :act_ind]\n",
    "    obj_true = y_true[ : , act_ind:obj_ind]\n",
    "    loc_true = y_true[ : , obj_ind:loc_ind]\n",
    "\n",
    "    act_pred = y_pred[ : , :act_ind]\n",
    "    obj_pred = y_pred[ : , act_ind:obj_ind]\n",
    "    loc_pred = y_pred[ : , obj_ind:loc_ind]\n",
    "    \n",
    "    act_true_labels = np.argmax(act_true, axis = 1)\n",
    "    act_pred_labels = np.argmax(act_pred, axis = 1)\n",
    "    \n",
    "    obj_true_labels = np.argmax(obj_true, axis = 1)\n",
    "    obj_pred_labels = np.argmax(obj_pred, axis = 1)\n",
    "    \n",
    "    loc_true_labels = np.argmax(loc_true, axis = 1)\n",
    "    loc_pred_labels = np.argmax(loc_pred, axis = 1)\n",
    "    \n",
    "    act_f1_score = f1_score(act_true_labels, act_pred_labels, average = 'weighted')\n",
    "    obj_f1_score = f1_score(obj_true_labels, obj_pred_labels, average = 'weighted')\n",
    "    loc_f1_score = f1_score(loc_true_labels, loc_pred_labels, average = 'weighted')\n",
    "    \n",
    "    sum_f1_score = np.mean([act_f1_score, obj_f1_score, loc_f1_score])\n",
    "    return [act_f1_score, obj_f1_score, loc_f1_score, sum_f1_score]"
   ]
  },
  {
   "cell_type": "markdown",
   "id": "58ad6765",
   "metadata": {},
   "source": [
    "### 5. Training a Tensorflow Functional Model"
   ]
  },
  {
   "cell_type": "code",
   "execution_count": 14,
   "id": "f1f677c4",
   "metadata": {
    "scrolled": true
   },
   "outputs": [
    {
     "name": "stdout",
     "output_type": "stream",
     "text": [
      "Model: \"label_model\"\n",
      "__________________________________________________________________________________________________\n",
      " Layer (type)                   Output Shape         Param #     Connected to                     \n",
      "==================================================================================================\n",
      " input (InputLayer)             [(None, 92)]         0           []                               \n",
      "                                                                                                  \n",
      " dense (Dense)                  (None, 64)           5952        ['input[0][0]']                  \n",
      "                                                                                                  \n",
      " dense_1 (Dense)                (None, 64)           4160        ['dense[0][0]']                  \n",
      "                                                                                                  \n",
      " dense_2 (Dense)                (None, 32)           2080        ['dense_1[0][0]']                \n",
      "                                                                                                  \n",
      " dense_3 (Dense)                (None, 32)           1056        ['dense_2[0][0]']                \n",
      "                                                                                                  \n",
      " dense_4 (Dense)                (None, 32)           1056        ['dense_3[0][0]']                \n",
      "                                                                                                  \n",
      " dense_6 (Dense)                (None, 32)           1056        ['dense_3[0][0]']                \n",
      "                                                                                                  \n",
      " dense_8 (Dense)                (None, 32)           1056        ['dense_3[0][0]']                \n",
      "                                                                                                  \n",
      " dense_5 (Dense)                (None, 6)            198         ['dense_4[0][0]']                \n",
      "                                                                                                  \n",
      " dense_7 (Dense)                (None, 14)           462         ['dense_6[0][0]']                \n",
      "                                                                                                  \n",
      " dense_9 (Dense)                (None, 4)            132         ['dense_8[0][0]']                \n",
      "                                                                                                  \n",
      " concatenate (Concatenate)      (None, 24)           0           ['dense_5[0][0]',                \n",
      "                                                                  'dense_7[0][0]',                \n",
      "                                                                  'dense_9[0][0]']                \n",
      "                                                                                                  \n",
      "==================================================================================================\n",
      "Total params: 17,208\n",
      "Trainable params: 17,208\n",
      "Non-trainable params: 0\n",
      "__________________________________________________________________________________________________\n"
     ]
    },
    {
     "name": "stderr",
     "output_type": "stream",
     "text": [
      "2022-08-03 18:44:13.568109: W tensorflow/stream_executor/platform/default/dso_loader.cc:64] Could not load dynamic library 'libcuda.so.1'; dlerror: libcuda.so.1: cannot open shared object file: No such file or directory\n",
      "2022-08-03 18:44:13.568154: W tensorflow/stream_executor/cuda/cuda_driver.cc:269] failed call to cuInit: UNKNOWN ERROR (303)\n",
      "2022-08-03 18:44:13.568192: I tensorflow/stream_executor/cuda/cuda_diagnostics.cc:156] kernel driver does not appear to be running on this host (lenovo): /proc/driver/nvidia/version does not exist\n",
      "2022-08-03 18:44:13.568608: I tensorflow/core/platform/cpu_feature_guard.cc:193] This TensorFlow binary is optimized with oneAPI Deep Neural Network Library (oneDNN) to use the following CPU instructions in performance-critical operations:  AVX2 FMA\n",
      "To enable them in other operations, rebuild TensorFlow with the appropriate compiler flags.\n"
     ]
    }
   ],
   "source": [
    "# Input Layer\n",
    "model_input = keras.Input(shape=(92), name=\"input\")\n",
    "\n",
    "# Common Architecture\n",
    "x = Dense(units = 64, activation = \"relu\")(model_input)\n",
    "x = Dense(units = 64, activation = \"relu\")(x)\n",
    "x = Dense(units = 32, activation = \"relu\")(x)\n",
    "x = Dense(units = 32, activation = \"relu\")(x)\n",
    "\n",
    "# Differing Architectures\n",
    "p1 = Dense(units = 32, activation = \"relu\")(x)\n",
    "out1 = Dense(units = 6, activation = \"softmax\")(p1)\n",
    "\n",
    "p2 = Dense(units = 32, activation = \"relu\")(x)\n",
    "out2 = Dense(units = 14, activation = \"softmax\")(p2)\n",
    "\n",
    "p3 = Dense(units = 32, activation = \"relu\")(x)\n",
    "out3 = Dense(units = 4, activation = \"softmax\")(p3)\n",
    "\n",
    "# Concatenate the Outputs\n",
    "out = Concatenate(axis = 1)([out1, out2, out3])\n",
    "\n",
    "label_model = tf.keras.Model(model_input, out, name = 'label_model')\n",
    "label_model.summary()"
   ]
  },
  {
   "cell_type": "code",
   "execution_count": 15,
   "id": "3f82f2b7",
   "metadata": {
    "scrolled": true
   },
   "outputs": [
    {
     "name": "stdout",
     "output_type": "stream",
     "text": [
      "Epoch 1/5\n",
      "723/723 [==============================] - 4s 3ms/step - loss: 0.7423 - my_acc: 1.0000\n",
      "Epoch 2/5\n",
      "723/723 [==============================] - 2s 2ms/step - loss: 0.0011 - my_acc: 1.0000\n",
      "Epoch 3/5\n",
      "723/723 [==============================] - 2s 3ms/step - loss: 2.8943e-04 - my_acc: 1.0000\n",
      "Epoch 4/5\n",
      "723/723 [==============================] - 2s 2ms/step - loss: 1.2345e-04 - my_acc: 1.0000\n",
      "Epoch 5/5\n",
      "723/723 [==============================] - 2s 2ms/step - loss: 6.3051e-05 - my_acc: 1.0000\n"
     ]
    },
    {
     "data": {
      "text/plain": [
       "<keras.callbacks.History at 0x7f3b61d2be50>"
      ]
     },
     "execution_count": 15,
     "metadata": {},
     "output_type": "execute_result"
    }
   ],
   "source": [
    "label_model.compile(\n",
    "    loss=MyLoss(),\n",
    "    optimizer='adam',\n",
    "    metrics=[MyAcc()],\n",
    ")\n",
    "\n",
    "# train_dataset = tf.data.Dataset.from_tensor_slices((X_train, Y_train))\n",
    "label_model.fit(X_train, Y_train, batch_size = 16, epochs = 5)"
   ]
  },
  {
   "cell_type": "markdown",
   "id": "a21891e4",
   "metadata": {},
   "source": [
    "### 6. Predicting"
   ]
  },
  {
   "cell_type": "code",
   "execution_count": 16,
   "id": "3efa2829",
   "metadata": {},
   "outputs": [
    {
     "name": "stdout",
     "output_type": "stream",
     "text": [
      "362/362 [==============================] - 1s 2ms/step\n",
      "98/98 [==============================] - 0s 2ms/step\n",
      "(11566, 24) (3118, 24)\n"
     ]
    }
   ],
   "source": [
    "preds_train = label_model.predict(X_train)\n",
    "preds_val = label_model.predict(X_val)\n",
    "print(preds_train.shape, preds_val.shape)"
   ]
  },
  {
   "cell_type": "code",
   "execution_count": 17,
   "id": "00c30453",
   "metadata": {},
   "outputs": [
    {
     "name": "stdout",
     "output_type": "stream",
     "text": [
      "Training F1 Score: Action | Object | Location | Sum\n",
      "                 : 1.0 | 1.0 | 1.0 | 1.0\n",
      "\n",
      "Validation F1 Score: Action | Object | Location | Sum\n",
      "                   : 1.0 | 1.0 | 1.0 | 1.0\n"
     ]
    }
   ],
   "source": [
    "train_f1 = MyF1Score(Y_train, preds_train)\n",
    "print(f\"Training F1 Score: Action | Object | Location | Sum\")\n",
    "print(f\"                 : {train_f1[0]} | {train_f1[1]} | {train_f1[2]} | {train_f1[3]}\")\n",
    "\n",
    "val_f1 = MyF1Score(Y_val, preds_val)\n",
    "print(f\"\\nValidation F1 Score: Action | Object | Location | Sum\")\n",
    "print(f\"                   : {val_f1[0]} | {val_f1[1]} | {val_f1[2]} | {val_f1[3]}\")"
   ]
  }
 ],
 "metadata": {
  "kernelspec": {
   "display_name": "Python 3 (ipykernel)",
   "language": "python",
   "name": "python3"
  },
  "language_info": {
   "codemirror_mode": {
    "name": "ipython",
    "version": 3
   },
   "file_extension": ".py",
   "mimetype": "text/x-python",
   "name": "python",
   "nbconvert_exporter": "python",
   "pygments_lexer": "ipython3",
   "version": "3.9.12"
  }
 },
 "nbformat": 4,
 "nbformat_minor": 5
}
